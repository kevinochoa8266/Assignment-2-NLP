{
 "cells": [
  {
   "attachments": {},
   "cell_type": "markdown",
   "id": "ea82290b",
   "metadata": {},
   "source": [
    "# Setup"
   ]
  },
  {
   "cell_type": "code",
   "execution_count": 1,
   "id": "d18fa40a",
   "metadata": {},
   "outputs": [],
   "source": [
    "import pandas as pd\n",
    "import numpy as np\n",
    "import nltk\n",
    "from nltk.corpus import stopwords\n",
    "import re\n",
    "import scipy.sparse as sp\n",
    "import contractions\n",
    "from sklearn.feature_extraction.text import CountVectorizer"
   ]
  },
  {
   "attachments": {},
   "cell_type": "markdown",
   "id": "e6d507c1",
   "metadata": {},
   "source": [
    "# Load in Data"
   ]
  },
  {
   "cell_type": "code",
   "execution_count": 119,
   "id": "53835805",
   "metadata": {},
   "outputs": [],
   "source": [
    "df = pd.read_csv('train.csv', skiprows=0)\n",
    "df2 = pd.read_csv('test.csv', skiprows=0)"
   ]
  },
  {
   "attachments": {},
   "cell_type": "markdown",
   "id": "df9f6818",
   "metadata": {},
   "source": [
    "# Clean Up Data"
   ]
  },
  {
   "cell_type": "code",
   "execution_count": 120,
   "id": "57c3fceb",
   "metadata": {},
   "outputs": [
    {
     "name": "stderr",
     "output_type": "stream",
     "text": [
      "[nltk_data] Downloading package punkt to\n",
      "[nltk_data]     C:\\Users\\hp\\AppData\\Roaming\\nltk_data...\n",
      "[nltk_data]   Package punkt is already up-to-date!\n",
      "[nltk_data] Downloading package stopwords to\n",
      "[nltk_data]     C:\\Users\\hp\\AppData\\Roaming\\nltk_data...\n",
      "[nltk_data]   Package stopwords is already up-to-date!\n"
     ]
    }
   ],
   "source": [
    "nltk.download('punkt')\n",
    "from nltk.stem.snowball import SnowballStemmer\n",
    "nltk.download('stopwords')\n",
    "from nltk.corpus import stopwords\n",
    "\n",
    "contractions = {\n",
    "    \"ain't\": \"is not\",\n",
    "    \"aren't\": \"are not\",\n",
    "    \"can't\": \"cannot\",\n",
    "    \"could've\": \"could have\",\n",
    "    \"couldn't\": \"could not\",\n",
    "    \"didn't\": \"did not\",\n",
    "    \"doesn't\": \"does not\",\n",
    "    \"don't\": \"do not\",\n",
    "    \"hadn't\": \"had not\",\n",
    "    \"hasn't\": \"has not\",\n",
    "    \"haven't\": \"have not\",\n",
    "    \"he'd\": \"he would\",\n",
    "    \"he'll\": \"he will\",\n",
    "    \"he's\": \"he is\",\n",
    "    \"i'd\": \"I would\",\n",
    "    \"i'll\": \"I will\",\n",
    "    \"i'm\": \"I am\",\n",
    "    \"i've\": \"I have\",\n",
    "    \"isn't\": \"is not\",\n",
    "    \"it'd\": \"it would\",\n",
    "    \"it'll\": \"it will\",\n",
    "    \"it's\": \"it is\",\n",
    "    \"its\" : \"it is\",\n",
    "    \"let's\": \"let us\",\n",
    "    \"might've\": \"might have\",\n",
    "    \"must've\": \"must have\",\n",
    "    \"mightn't\": \"might not\",\n",
    "    \"mustn't\": \"must not\",\n",
    "    \"needn't\": \"need not\",\n",
    "    \"shan't\": \"shall not\",\n",
    "    \"she'd\": \"she would\",\n",
    "    \"she'll\": \"she will\",\n",
    "    \"she's\": \"she is\",\n",
    "    \"should've\": \"should have\",\n",
    "    \"shouldn't\": \"should not\",\n",
    "    \"that's\": \"that is\",\n",
    "    \"there's\": \"there is\",\n",
    "    \"they'd\": \"they would\",\n",
    "    \"they'll\": \"they will\",\n",
    "    \"they're\": \"they are\",\n",
    "    \"they've\": \"they have\",\n",
    "    \"wasn't\": \"was not\",\n",
    "    \"we'd\": \"we would\",\n",
    "    \"we'll\": \"we will\",\n",
    "    \"we're\": \"we are\",\n",
    "    \"we've\": \"we have\",\n",
    "    \"weren't\": \"were not\",\n",
    "    \"what'll\": \"what will\",\n",
    "    \"what're\": \"what are\",\n",
    "    \"what's\": \"what is\",\n",
    "    \"what've\": \"what have\",\n",
    "    \"where's\": \"where is\",\n",
    "    \"who'd\": \"who would\",\n",
    "    \"who'll\": \"who will\",\n",
    "    \"who's\": \"who is\",\n",
    "    \"who've\": \"who have\",\n",
    "    \"won't\": \"will not\",\n",
    "    \"would've\": \"would have\",\n",
    "    \"wouldn't\": \"would not\",\n",
    "    \"you'd\": \"you would\",\n",
    "    \"you'll\": \"you will\",\n",
    "    \"you're\": \"you are\",\n",
    "    \"you've\": \"you have\",\n",
    "    \"'s\": \"is\",\n",
    "    \"'re\": \" are\",\n",
    "    \"'ve\": \" have\",\n",
    "    \"'m\": \" am\",\n",
    "    \"'d\": \" would\",\n",
    "}\n",
    "\n",
    "stop_words = set(stopwords.words('english'))\n",
    "stem = SnowballStemmer('english')\n",
    "\n",
    "def decontract(tkn):\n",
    "    for word in tkn.split():\n",
    "        if word.lower() in contractions:\n",
    "            tkn = tkn.replace(word, contractions[word.lower()])\n",
    "    return tkn\n",
    "\n",
    "def tokenize(sentence):\n",
    "    sent = nltk.sent_tokenize(sentence)\n",
    "    sent = [word.lower() for word in sent]\n",
    "    sent = [re.sub('[^a-zA-Z]', ' ', word) for word in sent]\n",
    "    sent = [decontract(word) for word in sent]\n",
    "    tokens = []\n",
    "    for word in sent:\n",
    "        words = nltk.word_tokenize(word)\n",
    "        words = [w for w in words if not w in stop_words]\n",
    "        words = [stem.stem(w) for w in words if not w in stop_words]\n",
    "        tokens.extend(words)\n",
    "    return tokens\n",
    "\n",
    "df['Text'] = df['Text'].apply(tokenize)\n",
    "df2['Text'] = df2['Text'].apply(tokenize)\n",
    "\n",
    "\n"
   ]
  },
  {
   "attachments": {},
   "cell_type": "markdown",
   "id": "ef2e1827",
   "metadata": {},
   "source": [
    "# Linguistic Feature Extraction"
   ]
  },
  {
   "cell_type": "code",
   "execution_count": 128,
   "id": "1c57b91b",
   "metadata": {},
   "outputs": [],
   "source": [
    "arr = []\n",
    "for wrd in df['Text']:\n",
    "    arr.append(' '.join(wrd))\n",
    "for wrd in df2['Text']:\n",
    "    arr.append(' '.join(wrd))\n",
    "\n",
    "# fit the CountVectorizer on the entire corpus of text\n",
    "count_vectorizer = CountVectorizer(tokenizer=tokenize, max_df=0.5, min_df=2)\n",
    "bag = count_vectorizer.fit_transform(arr)\n",
    "\n",
    "# transform each dataset separately\n",
    "bag_df = count_vectorizer.transform([' '.join(wrd) for wrd in df['Text']])\n",
    "bag_df2 = count_vectorizer.transform([' '.join(wrd) for wrd in df2['Text']])"
   ]
  },
  {
   "attachments": {},
   "cell_type": "markdown",
   "id": "f11dcc98",
   "metadata": {},
   "source": [
    "# Classification Model"
   ]
  },
  {
   "cell_type": "code",
   "execution_count": 129,
   "id": "ebe729b6",
   "metadata": {},
   "outputs": [],
   "source": [
    "from sklearn.linear_model import LogisticRegression\n",
    "from sklearn.metrics import classification_report"
   ]
  },
  {
   "cell_type": "code",
   "execution_count": 136,
   "id": "33ba25ba",
   "metadata": {},
   "outputs": [],
   "source": [
    "testY = df2['Sentiment']\n",
    "mod = LogisticRegression(max_iter = 1100000)\n",
    "trainY = df['Sentiment']\n",
    "mod.fit(bag_df,trainY)\n",
    "predicted = mod.predict(bag_df2)"
   ]
  },
  {
   "cell_type": "code",
   "execution_count": 137,
   "id": "a231befd",
   "metadata": {},
   "outputs": [
    {
     "name": "stdout",
     "output_type": "stream",
     "text": [
      "              precision    recall  f1-score   support\n",
      "\n",
      "           0       0.91      0.66      0.76       245\n",
      "           1       0.54      0.86      0.66       114\n",
      "\n",
      "    accuracy                           0.72       359\n",
      "   macro avg       0.72      0.76      0.71       359\n",
      "weighted avg       0.79      0.72      0.73       359\n",
      "\n"
     ]
    }
   ],
   "source": [
    "print(classification_report(predicted, testY))"
   ]
  }
 ],
 "metadata": {
  "kernelspec": {
   "display_name": "Python 3 (ipykernel)",
   "language": "python",
   "name": "python3"
  },
  "language_info": {
   "codemirror_mode": {
    "name": "ipython",
    "version": 3
   },
   "file_extension": ".py",
   "mimetype": "text/x-python",
   "name": "python",
   "nbconvert_exporter": "python",
   "pygments_lexer": "ipython3",
   "version": "3.9.16"
  }
 },
 "nbformat": 4,
 "nbformat_minor": 5
}
